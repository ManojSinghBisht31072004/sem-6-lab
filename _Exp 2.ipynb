{
 "cells": [
  {
   "cell_type": "code",
   "execution_count": 1,
   "id": "4c854757",
   "metadata": {},
   "outputs": [
    {
     "name": "stdout",
     "output_type": "stream",
     "text": [
      "   EmployeeID         Name  Age Department  Salary                JoiningDate\n",
      "0           1   Employee_1   22      Sales   36921 2022-12-21 12:18:10.654237\n",
      "1           2   Employee_2   25      Sales   68804 2022-11-09 12:18:10.654237\n",
      "2           3   Employee_3   25         IT   97699 2023-03-27 12:18:10.654237\n",
      "3           4   Employee_4   31         HR   67619 2016-03-23 12:18:10.654237\n",
      "4           5   Employee_5   41         IT   37877 2016-12-09 12:18:10.654237\n",
      "5           6   Employee_6   43  Marketing   31871 2023-11-18 12:18:10.654237\n",
      "6           7   Employee_7   58  Marketing   32496 2015-11-03 12:18:10.654237\n",
      "7           8   Employee_8   45         IT   77954 2015-11-26 12:18:10.654237\n",
      "8           9   Employee_9   28      Sales   54675 2017-07-10 12:18:10.654237\n",
      "9          10  Employee_10   46         HR   61921 2023-04-16 12:18:10.654237\n"
     ]
    }
   ],
   "source": [
    "#QUESTION 1\n",
    "import pandas as pd\n",
    "import numpy as np\n",
    "from datetime import datetime, timedelta\n",
    "\n",
    "# Number of sample employees\n",
    "num_employees = 10\n",
    "\n",
    "# Generating random data\n",
    "np.random.seed(0)  # For reproducibility\n",
    "employee_ids = np.arange(1, num_employees + 1)\n",
    "names = [f'Employee_{i}' for i in range(1, num_employees + 1)]\n",
    "ages = np.random.randint(22, 60, size=num_employees)\n",
    "departments = np.random.choice(['Sales', 'HR', 'IT', 'Marketing'], size=num_employees)\n",
    "salaries = np.random.randint(30000, 100000, size=num_employees)\n",
    "joining_dates = [datetime.now() - timedelta(days=np.random.randint(1, 3650)) for _ in range(num_employees)]\n",
    "\n",
    "# Creating the DataFrame\n",
    "df = pd.DataFrame({\n",
    "    'EmployeeID': employee_ids,\n",
    "    'Name': names,\n",
    "    'Age': ages,\n",
    "    'Department': departments,\n",
    "    'Salary': salaries,\n",
    "    'JoiningDate': joining_dates\n",
    "})\n",
    "\n",
    "print(df)\n"
   ]
  },
  {
   "cell_type": "code",
   "execution_count": 2,
   "id": "40f91744",
   "metadata": {},
   "outputs": [
    {
     "name": "stdout",
     "output_type": "stream",
     "text": [
      "   EmployeeID        Name  Age Department  Salary                JoiningDate\n",
      "0           1  Employee_1   22      Sales   36921 2022-12-21 12:18:10.654237\n",
      "1           2  Employee_2   25      Sales   68804 2022-11-09 12:18:10.654237\n",
      "2           3  Employee_3   25         IT   97699 2023-03-27 12:18:10.654237\n",
      "3           4  Employee_4   31         HR   67619 2016-03-23 12:18:10.654237\n",
      "4           5  Employee_5   41         IT   37877 2016-12-09 12:18:10.654237\n",
      "   EmployeeID         Name  Age Department  Salary                JoiningDate\n",
      "5           6   Employee_6   43  Marketing   31871 2023-11-18 12:18:10.654237\n",
      "6           7   Employee_7   58  Marketing   32496 2015-11-03 12:18:10.654237\n",
      "7           8   Employee_8   45         IT   77954 2015-11-26 12:18:10.654237\n",
      "8           9   Employee_9   28      Sales   54675 2017-07-10 12:18:10.654237\n",
      "9          10  Employee_10   46         HR   61921 2023-04-16 12:18:10.654237\n",
      "<class 'pandas.core.frame.DataFrame'>\n",
      "RangeIndex: 10 entries, 0 to 9\n",
      "Data columns (total 6 columns):\n",
      " #   Column       Non-Null Count  Dtype         \n",
      "---  ------       --------------  -----         \n",
      " 0   EmployeeID   10 non-null     int32         \n",
      " 1   Name         10 non-null     object        \n",
      " 2   Age          10 non-null     int32         \n",
      " 3   Department   10 non-null     object        \n",
      " 4   Salary       10 non-null     int32         \n",
      " 5   JoiningDate  10 non-null     datetime64[ns]\n",
      "dtypes: datetime64[ns](1), int32(3), object(2)\n",
      "memory usage: 492.0+ bytes\n",
      "None\n",
      "EmployeeID     0\n",
      "Name           0\n",
      "Age            0\n",
      "Department     0\n",
      "Salary         0\n",
      "JoiningDate    0\n",
      "dtype: int64\n"
     ]
    }
   ],
   "source": [
    "#QUESTION 2\n",
    "print(df.head())  # Displays the first 5 rows by default\n",
    "print(df.tail())  # Displays the last 5 rows by default\n",
    "print(df.info())  # Provides a summary including the data types and non-null counts\n",
    "print(df.isnull().sum())  # Returns the number of null values in each column\n",
    "\n",
    "#QUESTION 2"
   ]
  },
  {
   "cell_type": "code",
   "execution_count": 3,
   "id": "6306e9c8",
   "metadata": {},
   "outputs": [
    {
     "name": "stdout",
     "output_type": "stream",
     "text": [
      "   EmployeeID        Name  Age Department  Salary                JoiningDate\n",
      "1           2  Employee_2   25      Sales   68804 2022-11-09 12:18:10.654237\n",
      "8           9  Employee_9   28      Sales   54675 2017-07-10 12:18:10.654237\n"
     ]
    }
   ],
   "source": [
    "#QUESTION 3\n",
    "filtered_df = df[(df['Department'] == 'Sales') & (df['Salary'] > 50000)]\n",
    "print(filtered_df)\n",
    "#QUESTION 3"
   ]
  },
  {
   "cell_type": "code",
   "execution_count": 4,
   "id": "7fc824a9",
   "metadata": {},
   "outputs": [
    {
     "name": "stdout",
     "output_type": "stream",
     "text": [
      "  Department   Age        Salary\n",
      "0         HR  38.5  64770.000000\n",
      "1         IT  37.0  71176.666667\n",
      "2  Marketing  50.5  32183.500000\n",
      "3      Sales  25.0  53466.666667\n"
     ]
    }
   ],
   "source": [
    "\n",
    "#QUESTION 4\n",
    "avg_stats = df.groupby('Department')[['Age', 'Salary']].mean().reset_index()\n",
    "print(avg_stats)\n",
    "#QUESTION 4"
   ]
  },
  {
   "cell_type": "code",
   "execution_count": 6,
   "id": "9dfe29ce",
   "metadata": {},
   "outputs": [
    {
     "name": "stdout",
     "output_type": "stream",
     "text": [
      "   EmployeeID         Name  Age Department  Salary                JoiningDate\n",
      "2           3   Employee_3   25         IT   97699 2023-03-27 12:18:10.654237\n",
      "7           8   Employee_8   45         IT   77954 2015-11-26 12:18:10.654237\n",
      "1           2   Employee_2   25      Sales   68804 2022-11-09 12:18:10.654237\n",
      "3           4   Employee_4   31         HR   67619 2016-03-23 12:18:10.654237\n",
      "9          10  Employee_10   46         HR   61921 2023-04-16 12:18:10.654237\n",
      "8           9   Employee_9   28      Sales   54675 2017-07-10 12:18:10.654237\n",
      "4           5   Employee_5   41         IT   37877 2016-12-09 12:18:10.654237\n",
      "0           1   Employee_1   22      Sales   36921 2022-12-21 12:18:10.654237\n",
      "6           7   Employee_7   58  Marketing   32496 2015-11-03 12:18:10.654237\n",
      "5           6   Employee_6   43  Marketing   31871 2023-11-18 12:18:10.654237\n",
      "   EmployeeID         Name  Age Department  Salary                JoiningDate\n",
      "3           4   Employee_4   31         HR   67619 2016-03-23 12:18:10.654237\n",
      "9          10  Employee_10   46         HR   61921 2023-04-16 12:18:10.654237\n",
      "2           3   Employee_3   25         IT   97699 2023-03-27 12:18:10.654237\n",
      "4           5   Employee_5   41         IT   37877 2016-12-09 12:18:10.654237\n",
      "7           8   Employee_8   45         IT   77954 2015-11-26 12:18:10.654237\n",
      "5           6   Employee_6   43  Marketing   31871 2023-11-18 12:18:10.654237\n",
      "6           7   Employee_7   58  Marketing   32496 2015-11-03 12:18:10.654237\n",
      "0           1   Employee_1   22      Sales   36921 2022-12-21 12:18:10.654237\n",
      "1           2   Employee_2   25      Sales   68804 2022-11-09 12:18:10.654237\n",
      "8           9   Employee_9   28      Sales   54675 2017-07-10 12:18:10.654237\n"
     ]
    }
   ],
   "source": [
    "#QUESTION 5\n",
    "sorted_by_salary = df.sort_values(by='Salary', ascending=False)\n",
    "print(sorted_by_salary)\n",
    "sorted_by_dept_age = df.sort_values(by=['Department', 'Age'], ascending=[True, True])\n",
    "print(sorted_by_dept_age)\n",
    "\n",
    "#QUESTION 5"
   ]
  },
  {
   "cell_type": "code",
   "execution_count": 8,
   "id": "64eb5851",
   "metadata": {},
   "outputs": [
    {
     "name": "stdout",
     "output_type": "stream",
     "text": [
      "0    False\n",
      "1    False\n",
      "2    False\n",
      "3    False\n",
      "4    False\n",
      "5    False\n",
      "6    False\n",
      "7    False\n",
      "8    False\n",
      "9    False\n",
      "dtype: bool\n"
     ]
    }
   ],
   "source": [
    "#QUESTION 6\n",
    "#Find duplicates:\n",
    "duplicates = df.duplicated()\n",
    "print(duplicates)\n",
    "\n",
    "#Drop duplicate rows:\n",
    "df = df.drop_duplicates()\n",
    "\n",
    "#QUESTION 6"
   ]
  },
  {
   "cell_type": "code",
   "execution_count": 11,
   "id": "51c6fc99",
   "metadata": {},
   "outputs": [
    {
     "name": "stdout",
     "output_type": "stream",
     "text": [
      "['EmployeeID', 'Name', 'Age', 'Department', 'Salary', 'JoiningDate']\n"
     ]
    }
   ],
   "source": [
    "print(df.columns.tolist())\n",
    "\n",
    "df.columns = df.columns.str.strip()\n",
    "#QUESTION 6"
   ]
  },
  {
   "cell_type": "code",
   "execution_count": 12,
   "id": "af77a3d0",
   "metadata": {},
   "outputs": [
    {
     "name": "stdout",
     "output_type": "stream",
     "text": [
      "   EmployeeID         Name  Age Department  Salary                JoiningDate  \\\n",
      "0           1   Employee_1   22      Sales   36921 2022-12-21 12:18:10.654237   \n",
      "1           2   Employee_2   25      Sales   68804 2022-11-09 12:18:10.654237   \n",
      "2           3   Employee_3   25         IT   97699 2023-03-27 12:18:10.654237   \n",
      "3           4   Employee_4   31         HR   67619 2016-03-23 12:18:10.654237   \n",
      "4           5   Employee_5   41         IT   37877 2016-12-09 12:18:10.654237   \n",
      "5           6   Employee_6   43  Marketing   31871 2023-11-18 12:18:10.654237   \n",
      "6           7   Employee_7   58  Marketing   32496 2015-11-03 12:18:10.654237   \n",
      "7           8   Employee_8   45         IT   77954 2015-11-26 12:18:10.654237   \n",
      "8           9   Employee_9   28      Sales   54675 2017-07-10 12:18:10.654237   \n",
      "9          10  Employee_10   46         HR   61921 2023-04-16 12:18:10.654237   \n",
      "\n",
      "   YearsInCompany  \n",
      "0             2.1  \n",
      "1             2.2  \n",
      "2             1.8  \n",
      "3             8.8  \n",
      "4             8.1  \n",
      "5             1.2  \n",
      "6             9.2  \n",
      "7             9.1  \n",
      "8             7.5  \n",
      "9             1.8  \n"
     ]
    }
   ],
   "source": [
    "#QUESTION 7\n",
    "df['YearsInCompany'] = (datetime.now() - df['JoiningDate']).dt.days / 365.25\n",
    "df['YearsInCompany'] = df['YearsInCompany'].round(1)  # Rounding to one decimal place\n",
    "print(df)\n",
    "#QUESTION 7"
   ]
  },
  {
   "cell_type": "code",
   "execution_count": 21,
   "id": "fd1daa02",
   "metadata": {},
   "outputs": [
    {
     "name": "stdout",
     "output_type": "stream",
     "text": [
      "Median Salary: 58298.0\n",
      "\n",
      "Distribution of employees by age groups:\n",
      "AgeGroup\n",
      "20-29    4\n",
      "40-49    4\n",
      "30-39    1\n",
      "50-59    1\n",
      "Name: count, dtype: int64\n",
      "\n",
      "Statistical Summary of Numerical Columns:\n",
      "       EmployeeID        Age        Salary                    JoiningDate  \\\n",
      "count    10.00000  10.000000     10.000000                             10   \n",
      "mean      5.50000  36.400000  56783.700000  2019-11-13 07:30:10.654236928   \n",
      "min       1.00000  22.000000  31871.000000     2015-11-03 12:18:10.654237   \n",
      "25%       3.25000  25.750000  37160.000000  2016-05-27 18:18:10.654236928   \n",
      "50%       5.50000  36.000000  58298.000000  2020-03-10 12:18:10.654236928   \n",
      "75%       7.75000  44.500000  68507.750000  2023-03-03 12:18:10.654236928   \n",
      "max      10.00000  58.000000  97699.000000     2023-11-18 12:18:10.654237   \n",
      "std       3.02765  11.852801  22054.221894                            NaN   \n",
      "\n",
      "       YearsInCompany  \n",
      "count       10.000000  \n",
      "mean         5.180000  \n",
      "min          1.200000  \n",
      "25%          1.875000  \n",
      "50%          4.850000  \n",
      "75%          8.625000  \n",
      "max          9.200000  \n",
      "std          3.583853  \n"
     ]
    }
   ],
   "source": [
    "#QUESTION 8\n",
    "\n",
    "# Calculate the median salary\n",
    "median_salary = df['Salary'].median()\n",
    "print(f\"Median Salary: {median_salary}\")\n",
    "\n",
    "# Create an AgeGroup column for age distribution\n",
    "df['AgeGroup'] = pd.cut(df['Age'], bins=[20, 30, 40, 50, 60], labels=['20-29', '30-39', '40-49', '50-59'])\n",
    "\n",
    "# Distribution of employees by age groups\n",
    "age_group_distribution = df['AgeGroup'].value_counts()\n",
    "print(\"\\nDistribution of employees by age groups:\")\n",
    "print(age_group_distribution)\n",
    "\n",
    "# Statistical summary of numerical columns\n",
    "stat_summary = df.describe()\n",
    "print(\"\\nStatistical Summary of Numerical Columns:\")\n",
    "print(stat_summary)\n",
    "\n",
    "# Example: Mean, median, and stan\n",
    "\n",
    "#QUESTION 8"
   ]
  },
  {
   "cell_type": "code",
   "execution_count": 24,
   "id": "9b811b86",
   "metadata": {},
   "outputs": [
    {
     "name": "stdout",
     "output_type": "stream",
     "text": [
      "20.0\n"
     ]
    }
   ],
   "source": [
    "# QUESTION 9\n",
    "high_earners = (df['Salary'] > 70000).sum()\n",
    "percentage_high_earners = (high_earners / len(df)) * 100\n",
    "print(percentage_high_earners)\n",
    "# QUESTION 9"
   ]
  },
  {
   "cell_type": "code",
   "execution_count": 28,
   "id": "8605fa19",
   "metadata": {},
   "outputs": [
    {
     "name": "stdout",
     "output_type": "stream",
     "text": [
      "DataFrame exported to 'employees.csv'.\n"
     ]
    }
   ],
   "source": [
    "import pandas as pd\n",
    "\n",
    "# Export to CSV\n",
    "df.to_csv('employees.csv', index=False)\n",
    "print(\"DataFrame exported to 'employees.csv'.\")\n"
   ]
  },
  {
   "cell_type": "code",
   "execution_count": 29,
   "id": "65690704",
   "metadata": {},
   "outputs": [
    {
     "name": "stdout",
     "output_type": "stream",
     "text": [
      "Collecting xlsxwriter\n",
      "  Obtaining dependency information for xlsxwriter from https://files.pythonhosted.org/packages/a7/ea/53d1fe468e63e092cf16e2c18d16f50c29851242f9dd12d6a66e0d7f0d02/XlsxWriter-3.2.0-py3-none-any.whl.metadata\n",
      "  Downloading XlsxWriter-3.2.0-py3-none-any.whl.metadata (2.6 kB)\n",
      "Downloading XlsxWriter-3.2.0-py3-none-any.whl (159 kB)\n",
      "   ---------------------------------------- 0.0/159.9 kB ? eta -:--:--\n",
      "   -- ------------------------------------- 10.2/159.9 kB ? eta -:--:--\n",
      "   -------------- ------------------------ 61.4/159.9 kB 825.8 kB/s eta 0:00:01\n",
      "   ---------------------------------------- 159.9/159.9 kB 1.4 MB/s eta 0:00:00\n",
      "Installing collected packages: xlsxwriter\n",
      "Successfully installed xlsxwriter-3.2.0\n",
      "DataFrame exported to 'employees.csv'.\n",
      "DataFrame exported to 'employees.xlsx' with date formatting.\n"
     ]
    }
   ],
   "source": [
    "try:\n",
    "    import xlsxwriter\n",
    "except ImportError:\n",
    "    # Install xlsxwriter if it's not already installed\n",
    "    get_ipython().system('pip install xlsxwriter')\n",
    "    import xlsxwriter\n",
    "\n",
    "import pandas as pd\n",
    "\n",
    "# Export to CSV\n",
    "df.to_csv('employees.csv', index=False)\n",
    "print(\"DataFrame exported to 'employees.csv'.\")\n",
    "\n",
    "# Export to Excel with formatting\n",
    "with pd.ExcelWriter('employees.xlsx', engine='xlsxwriter') as writer:\n",
    "    df.to_excel(writer, sheet_name='Sheet1', index=False)\n",
    "\n",
    "    # Access the workbook and worksheet objects\n",
    "    workbook = writer.book\n",
    "    worksheet = writer.sheets['Sheet1']\n",
    "\n",
    "    # Set the format for the 'JoiningDate' column\n",
    "    date_format = workbook.add_format({'num_format': 'yyyy-mm-dd'})\n",
    "    worksheet.set_column('F:F', None, date_format)  # Assuming 'JoiningDate' is column F\n",
    "\n",
    "print(\"DataFrame exported to 'employees.xlsx' with date formatting.\")"
   ]
  },
  {
   "cell_type": "code",
   "execution_count": null,
   "id": "e43b1734",
   "metadata": {},
   "outputs": [],
   "source": []
  }
 ],
 "metadata": {
  "kernelspec": {
   "display_name": "Python 3 (ipykernel)",
   "language": "python",
   "name": "python3"
  },
  "language_info": {
   "codemirror_mode": {
    "name": "ipython",
    "version": 3
   },
   "file_extension": ".py",
   "mimetype": "text/x-python",
   "name": "python",
   "nbconvert_exporter": "python",
   "pygments_lexer": "ipython3",
   "version": "3.11.5"
  }
 },
 "nbformat": 4,
 "nbformat_minor": 5
}
